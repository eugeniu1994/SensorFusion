{
 "cells": [
  {
   "cell_type": "markdown",
   "metadata": {},
   "source": [
    "# Exercise 9\n",
    "\n",
    "## Muhammad Emzir"
   ]
  },
  {
   "cell_type": "markdown",
   "metadata": {},
   "source": [
    "## Question 1 (Kalman filter 1D Wiener velocity model)\n",
    "\n",
    "a. Formulate a measurement model which corresponds to observing the position part of the Wiener velocity model in Exercise 8 question 2 with additive Gaussian noise.\n",
    "\n",
    "b. Simulate states and measurements from the model and plot what they look like.\n",
    "\n",
    "c. Implement a Kalman filter for the model and compare the RMSE error of using raw measurements as the position part estimator and the Kalman filter RMSE. Also plot the Kalman filter results.\n"
   ]
  },
  {
   "cell_type": "markdown",
   "metadata": {},
   "source": [
    "## Import\n",
    "\n",
    "Here I am using syntax `% matplotlib widget` to enable interactive panning, and zooming in the plot. The [instruction](https://github.com/matplotlib/ipympl) is a bit technical. Please comment it to disable this feature."
   ]
  },
  {
   "cell_type": "code",
   "execution_count": null,
   "metadata": {},
   "outputs": [],
   "source": []
  },
  {
   "cell_type": "code",
   "execution_count": 9,
   "metadata": {},
   "outputs": [
    {
     "ename": "ModuleNotFoundError",
     "evalue": "No module named 'ipympl'",
     "output_type": "error",
     "traceback": [
      "\u001b[0;31m---------------------------------------------------------------------------\u001b[0m",
      "\u001b[0;31mModuleNotFoundError\u001b[0m                       Traceback (most recent call last)",
      "\u001b[0;32m<ipython-input-9-a954ac279afe>\u001b[0m in \u001b[0;36m<module>\u001b[0;34m\u001b[0m\n\u001b[1;32m      1\u001b[0m \u001b[0;31m#%matplotlib widget\u001b[0m\u001b[0;34m\u001b[0m\u001b[0;34m\u001b[0m\u001b[0;34m\u001b[0m\u001b[0m\n\u001b[1;32m      2\u001b[0m \u001b[0;32mimport\u001b[0m \u001b[0mnumpy\u001b[0m \u001b[0;32mas\u001b[0m \u001b[0mnp\u001b[0m\u001b[0;34m\u001b[0m\u001b[0;34m\u001b[0m\u001b[0m\n\u001b[0;32m----> 3\u001b[0;31m \u001b[0;32mimport\u001b[0m \u001b[0mmatplotlib\u001b[0m\u001b[0;34m.\u001b[0m\u001b[0mpyplot\u001b[0m \u001b[0;32mas\u001b[0m \u001b[0mplt\u001b[0m\u001b[0;34m\u001b[0m\u001b[0;34m\u001b[0m\u001b[0m\n\u001b[0m\u001b[1;32m      4\u001b[0m \u001b[0;32mimport\u001b[0m \u001b[0mseaborn\u001b[0m \u001b[0;32mas\u001b[0m \u001b[0msns\u001b[0m\u001b[0;34m\u001b[0m\u001b[0;34m\u001b[0m\u001b[0m\n\u001b[1;32m      5\u001b[0m \u001b[0;32mimport\u001b[0m \u001b[0mscipy\u001b[0m\u001b[0;34m.\u001b[0m\u001b[0mlinalg\u001b[0m \u001b[0;32mas\u001b[0m \u001b[0msla\u001b[0m\u001b[0;34m\u001b[0m\u001b[0;34m\u001b[0m\u001b[0m\n",
      "\u001b[0;32m~/.local/lib/python3.6/site-packages/matplotlib/pyplot.py\u001b[0m in \u001b[0;36m<module>\u001b[0;34m\u001b[0m\n\u001b[1;32m   2334\u001b[0m     \u001b[0mdict\u001b[0m\u001b[0;34m.\u001b[0m\u001b[0m__setitem__\u001b[0m\u001b[0;34m(\u001b[0m\u001b[0mrcParams\u001b[0m\u001b[0;34m,\u001b[0m \u001b[0;34m\"backend\"\u001b[0m\u001b[0;34m,\u001b[0m \u001b[0mrcsetup\u001b[0m\u001b[0;34m.\u001b[0m\u001b[0m_auto_backend_sentinel\u001b[0m\u001b[0;34m)\u001b[0m\u001b[0;34m\u001b[0m\u001b[0;34m\u001b[0m\u001b[0m\n\u001b[1;32m   2335\u001b[0m \u001b[0;31m# Set up the backend.\u001b[0m\u001b[0;34m\u001b[0m\u001b[0;34m\u001b[0m\u001b[0;34m\u001b[0m\u001b[0m\n\u001b[0;32m-> 2336\u001b[0;31m \u001b[0mswitch_backend\u001b[0m\u001b[0;34m(\u001b[0m\u001b[0mrcParams\u001b[0m\u001b[0;34m[\u001b[0m\u001b[0;34m\"backend\"\u001b[0m\u001b[0;34m]\u001b[0m\u001b[0;34m)\u001b[0m\u001b[0;34m\u001b[0m\u001b[0;34m\u001b[0m\u001b[0m\n\u001b[0m\u001b[1;32m   2337\u001b[0m \u001b[0;34m\u001b[0m\u001b[0m\n\u001b[1;32m   2338\u001b[0m \u001b[0;31m# Just to be safe.  Interactive mode can be turned on without\u001b[0m\u001b[0;34m\u001b[0m\u001b[0;34m\u001b[0m\u001b[0;34m\u001b[0m\u001b[0m\n",
      "\u001b[0;32m~/.local/lib/python3.6/site-packages/matplotlib/pyplot.py\u001b[0m in \u001b[0;36mswitch_backend\u001b[0;34m(newbackend)\u001b[0m\n\u001b[1;32m    274\u001b[0m     \u001b[0mbackend_name\u001b[0m \u001b[0;34m=\u001b[0m \u001b[0mcbook\u001b[0m\u001b[0;34m.\u001b[0m\u001b[0m_backend_module_name\u001b[0m\u001b[0;34m(\u001b[0m\u001b[0mnewbackend\u001b[0m\u001b[0;34m)\u001b[0m\u001b[0;34m\u001b[0m\u001b[0;34m\u001b[0m\u001b[0m\n\u001b[1;32m    275\u001b[0m \u001b[0;34m\u001b[0m\u001b[0m\n\u001b[0;32m--> 276\u001b[0;31m     \u001b[0;32mclass\u001b[0m \u001b[0mbackend_mod\u001b[0m\u001b[0;34m(\u001b[0m\u001b[0mmatplotlib\u001b[0m\u001b[0;34m.\u001b[0m\u001b[0mbackend_bases\u001b[0m\u001b[0;34m.\u001b[0m\u001b[0m_Backend\u001b[0m\u001b[0;34m)\u001b[0m\u001b[0;34m:\u001b[0m\u001b[0;34m\u001b[0m\u001b[0;34m\u001b[0m\u001b[0m\n\u001b[0m\u001b[1;32m    277\u001b[0m         \u001b[0mlocals\u001b[0m\u001b[0;34m(\u001b[0m\u001b[0;34m)\u001b[0m\u001b[0;34m.\u001b[0m\u001b[0mupdate\u001b[0m\u001b[0;34m(\u001b[0m\u001b[0mvars\u001b[0m\u001b[0;34m(\u001b[0m\u001b[0mimportlib\u001b[0m\u001b[0;34m.\u001b[0m\u001b[0mimport_module\u001b[0m\u001b[0;34m(\u001b[0m\u001b[0mbackend_name\u001b[0m\u001b[0;34m)\u001b[0m\u001b[0;34m)\u001b[0m\u001b[0;34m)\u001b[0m\u001b[0;34m\u001b[0m\u001b[0;34m\u001b[0m\u001b[0m\n\u001b[1;32m    278\u001b[0m \u001b[0;34m\u001b[0m\u001b[0m\n",
      "\u001b[0;32m~/.local/lib/python3.6/site-packages/matplotlib/pyplot.py\u001b[0m in \u001b[0;36mbackend_mod\u001b[0;34m()\u001b[0m\n\u001b[1;32m    275\u001b[0m \u001b[0;34m\u001b[0m\u001b[0m\n\u001b[1;32m    276\u001b[0m     \u001b[0;32mclass\u001b[0m \u001b[0mbackend_mod\u001b[0m\u001b[0;34m(\u001b[0m\u001b[0mmatplotlib\u001b[0m\u001b[0;34m.\u001b[0m\u001b[0mbackend_bases\u001b[0m\u001b[0;34m.\u001b[0m\u001b[0m_Backend\u001b[0m\u001b[0;34m)\u001b[0m\u001b[0;34m:\u001b[0m\u001b[0;34m\u001b[0m\u001b[0;34m\u001b[0m\u001b[0m\n\u001b[0;32m--> 277\u001b[0;31m         \u001b[0mlocals\u001b[0m\u001b[0;34m(\u001b[0m\u001b[0;34m)\u001b[0m\u001b[0;34m.\u001b[0m\u001b[0mupdate\u001b[0m\u001b[0;34m(\u001b[0m\u001b[0mvars\u001b[0m\u001b[0;34m(\u001b[0m\u001b[0mimportlib\u001b[0m\u001b[0;34m.\u001b[0m\u001b[0mimport_module\u001b[0m\u001b[0;34m(\u001b[0m\u001b[0mbackend_name\u001b[0m\u001b[0;34m)\u001b[0m\u001b[0;34m)\u001b[0m\u001b[0;34m)\u001b[0m\u001b[0;34m\u001b[0m\u001b[0;34m\u001b[0m\u001b[0m\n\u001b[0m\u001b[1;32m    278\u001b[0m \u001b[0;34m\u001b[0m\u001b[0m\n\u001b[1;32m    279\u001b[0m     \u001b[0mrequired_framework\u001b[0m \u001b[0;34m=\u001b[0m \u001b[0m_get_required_interactive_framework\u001b[0m\u001b[0;34m(\u001b[0m\u001b[0mbackend_mod\u001b[0m\u001b[0;34m)\u001b[0m\u001b[0;34m\u001b[0m\u001b[0;34m\u001b[0m\u001b[0m\n",
      "\u001b[0;32m/usr/lib/python3.6/importlib/__init__.py\u001b[0m in \u001b[0;36mimport_module\u001b[0;34m(name, package)\u001b[0m\n\u001b[1;32m    124\u001b[0m                 \u001b[0;32mbreak\u001b[0m\u001b[0;34m\u001b[0m\u001b[0;34m\u001b[0m\u001b[0m\n\u001b[1;32m    125\u001b[0m             \u001b[0mlevel\u001b[0m \u001b[0;34m+=\u001b[0m \u001b[0;36m1\u001b[0m\u001b[0;34m\u001b[0m\u001b[0;34m\u001b[0m\u001b[0m\n\u001b[0;32m--> 126\u001b[0;31m     \u001b[0;32mreturn\u001b[0m \u001b[0m_bootstrap\u001b[0m\u001b[0;34m.\u001b[0m\u001b[0m_gcd_import\u001b[0m\u001b[0;34m(\u001b[0m\u001b[0mname\u001b[0m\u001b[0;34m[\u001b[0m\u001b[0mlevel\u001b[0m\u001b[0;34m:\u001b[0m\u001b[0;34m]\u001b[0m\u001b[0;34m,\u001b[0m \u001b[0mpackage\u001b[0m\u001b[0;34m,\u001b[0m \u001b[0mlevel\u001b[0m\u001b[0;34m)\u001b[0m\u001b[0;34m\u001b[0m\u001b[0;34m\u001b[0m\u001b[0m\n\u001b[0m\u001b[1;32m    127\u001b[0m \u001b[0;34m\u001b[0m\u001b[0m\n\u001b[1;32m    128\u001b[0m \u001b[0;34m\u001b[0m\u001b[0m\n",
      "\u001b[0;31mModuleNotFoundError\u001b[0m: No module named 'ipympl'"
     ]
    }
   ],
   "source": [
    "#%matplotlib widget\n",
    "import numpy as np\n",
    "import matplotlib.pyplot as plt\n",
    "import seaborn as sns\n",
    "import scipy.linalg as sla\n",
    "##sns.set('talk')\n",
    "#plt.rc('text', usetex=True)\n",
    "#plt.rc('font', family='serif')\n",
    "from mpl_toolkits.mplot3d import Axes3D\n",
    "fig_size = (10,10)"
   ]
  },
  {
   "cell_type": "markdown",
   "metadata": {},
   "source": [
    "## From Exercise 8\n",
    "\n",
    "$$\n",
    "\\dot{x}_t = A x_t + B w_t,\n",
    "$$\n",
    "$$\n",
    "y_t = H x_t + r_t.\n",
    "$$"
   ]
  },
  {
   "cell_type": "code",
   "execution_count": 17,
   "metadata": {},
   "outputs": [],
   "source": [
    "A_wiener = np.array([[0., 1.],[0., 0.]])\n",
    "B_wiener = np.array([[0.],[1.]])\n",
    "process_noise_variance = 0.1\n",
    "measurement_noise_variance = 1.\n",
    "dt = 0.01\n",
    "F_wiener = np.array([[1., dt],[0., 1.]])\n",
    "Q_wiener_discrete = process_noise_variance * np.array([[(dt**3)/3, (dt**2)/2],[(dt**2)/2,dt]])\n",
    "x_wiener_init = np.array([0.,1.])\n",
    "t_wiener = np.arange(1001)*dt\n",
    "R = measurement_noise_variance*np.eye(1)\n",
    "q = np.random.multivariate_normal(np.zeros(2),Q_wiener_discrete,(t_wiener.shape[0]))\n",
    "r = np.random.multivariate_normal(np.zeros(1),R,t_wiener.shape[0])"
   ]
  },
  {
   "cell_type": "code",
   "execution_count": 18,
   "metadata": {},
   "outputs": [],
   "source": [
    "def propagate_linear_discrete_system_with_noise(F,x_init,length, v):\n",
    "    x = np.zeros((length,x_init.shape[0]))\n",
    "    x[0] = x_init\n",
    "    for i in range(length-1):\n",
    "        x[i+1] = F@x[i]+v[i]\n",
    "    return x"
   ]
  },
  {
   "cell_type": "markdown",
   "metadata": {},
   "source": [
    "## Define the measurement matrix\n",
    "\n",
    "Since  we only measure the position, then\n",
    "$$\n",
    "y_k = \\left[1 \\; 0\\right] x_k + r_k\n",
    "$$"
   ]
  },
  {
   "cell_type": "code",
   "execution_count": 19,
   "metadata": {},
   "outputs": [],
   "source": [
    "H_wiener = np.array([[1., 0.]])"
   ]
  },
  {
   "cell_type": "code",
   "execution_count": 20,
   "metadata": {},
   "outputs": [],
   "source": [
    "x_wiener = propagate_linear_discrete_system_with_noise(F_wiener,x_wiener_init,t_wiener.shape[0],q)"
   ]
  },
  {
   "cell_type": "code",
   "execution_count": 21,
   "metadata": {},
   "outputs": [],
   "source": [
    "y_wiener = x_wiener@H_wiener.T + r"
   ]
  },
  {
   "cell_type": "markdown",
   "metadata": {},
   "source": [
    "## Here what the state and measurement look like:"
   ]
  },
  {
   "cell_type": "code",
   "execution_count": 22,
   "metadata": {},
   "outputs": [
    {
     "data": {
      "application/vnd.jupyter.widget-view+json": {
       "model_id": "5635caf413a248a0b195cdc6ad9d6bed",
       "version_major": 2,
       "version_minor": 0
      },
      "text/plain": [
       "Canvas(toolbar=Toolbar(toolitems=[('Home', 'Reset original view', 'home', 'home'), ('Back', 'Back to previous …"
      ]
     },
     "metadata": {},
     "output_type": "display_data"
    },
    {
     "data": {
      "text/plain": [
       "<matplotlib.legend.Legend at 0x7f7af4531590>"
      ]
     },
     "execution_count": 22,
     "metadata": {},
     "output_type": "execute_result"
    }
   ],
   "source": [
    "plt.figure(figsize=fig_size)\n",
    "plt.plot(t_wiener,x_wiener[:,0],linewidth=0.5, label='$x_1$')\n",
    "plt.plot(t_wiener,x_wiener[:,1],linewidth=0.5, label='$x_2$')\n",
    "plt.xlabel('$t$')\n",
    "plt.ylabel('$x$')\n",
    "plt.legend()"
   ]
  },
  {
   "cell_type": "markdown",
   "metadata": {},
   "source": [
    "## The measurement"
   ]
  },
  {
   "cell_type": "code",
   "execution_count": 23,
   "metadata": {},
   "outputs": [
    {
     "data": {
      "application/vnd.jupyter.widget-view+json": {
       "model_id": "1ab6601d03a14aa99b91450d33ae3d53",
       "version_major": 2,
       "version_minor": 0
      },
      "text/plain": [
       "Canvas(toolbar=Toolbar(toolitems=[('Home', 'Reset original view', 'home', 'home'), ('Back', 'Back to previous …"
      ]
     },
     "metadata": {},
     "output_type": "display_data"
    },
    {
     "data": {
      "text/plain": [
       "<matplotlib.legend.Legend at 0x7f7af19ce110>"
      ]
     },
     "execution_count": 23,
     "metadata": {},
     "output_type": "execute_result"
    }
   ],
   "source": [
    "plt.figure(figsize=fig_size)\n",
    "plt.plot(t_wiener,y_wiener,'ok',markersize=3,alpha=0.5, label='$y$')\n",
    "plt.xlabel('$t$')\n",
    "plt.ylabel('$y$')\n",
    "plt.legend()"
   ]
  },
  {
   "cell_type": "markdown",
   "metadata": {},
   "source": [
    "## The Kalman filter\n",
    "\n",
    "Here are the implementation of the Kalman filter for the case of time independent dynamics and noises. You could also implement the time dependent one."
   ]
  },
  {
   "cell_type": "code",
   "execution_count": 24,
   "metadata": {},
   "outputs": [],
   "source": [
    "def Kalman_filter(F,H,x_init,cov_init,Q_discrete,R_discrete,y):\n",
    "    length = y.shape[0]\n",
    "    x = np.zeros((length,x_init.shape[0]))\n",
    "    P = np.zeros((length,x_init.shape[0],x_init.shape[0]))\n",
    "    x[0] = x_init\n",
    "    P[0] = cov_init\n",
    "    for i in range(length-1):\n",
    "        x_     = F@x[i]\n",
    "        P_     = F@P[i]@F.T + Q_discrete\n",
    "        S      = H@P_@H.T + R_discrete\n",
    "        K_tran = sla.solve(S,H@P_)\n",
    "        P[i+1] = P_ - K_tran.T@S@K_tran\n",
    "        x[i+1] = x_ + K_tran.T@(y[i]-H@x_)\n",
    "    return x, P"
   ]
  },
  {
   "cell_type": "code",
   "execution_count": 25,
   "metadata": {},
   "outputs": [],
   "source": [
    "cov_init = 0.01*np.eye(2)\n",
    "x_kalman,cov_kalman = Kalman_filter(F_wiener,H_wiener,x_wiener_init,cov_init,Q_wiener_discrete,R,y_wiener)"
   ]
  },
  {
   "cell_type": "markdown",
   "metadata": {},
   "source": [
    "## Kalman filter state estimation\n",
    "Here we only feed the Kalman filter with the measurement of the position, but we are able to track the velocity as well. Do we always have this feature? That is, measure only one state, and get the correct estimation for the rest?\n",
    "\n",
    "Check  Section $4.4$ of **Anderson, Brian DO, and John B. Moore. Optimal filtering**"
   ]
  },
  {
   "cell_type": "code",
   "execution_count": 26,
   "metadata": {},
   "outputs": [
    {
     "data": {
      "application/vnd.jupyter.widget-view+json": {
       "model_id": "d7b13e42438845b491059b12e98dc9aa",
       "version_major": 2,
       "version_minor": 0
      },
      "text/plain": [
       "Canvas(toolbar=Toolbar(toolitems=[('Home', 'Reset original view', 'home', 'home'), ('Back', 'Back to previous …"
      ]
     },
     "metadata": {},
     "output_type": "display_data"
    },
    {
     "data": {
      "text/plain": [
       "<matplotlib.legend.Legend at 0x7f7af1984a10>"
      ]
     },
     "execution_count": 26,
     "metadata": {},
     "output_type": "execute_result"
    }
   ],
   "source": [
    "plt.figure(figsize=fig_size)\n",
    "plt.plot(t_wiener,x_kalman[:,0],linewidth=0.5, label='$x_1$')\n",
    "plt.plot(t_wiener,x_kalman[:,1],linewidth=0.5, label='$x_2$')\n",
    "plt.xlabel('$t$')\n",
    "plt.ylabel('$x$')\n",
    "plt.legend()"
   ]
  },
  {
   "cell_type": "markdown",
   "metadata": {},
   "source": [
    "## Root mean square comparison\n",
    "\n",
    "We can now compare the RMSE for the kalman filter estimate for the position, and the raw measurement."
   ]
  },
  {
   "cell_type": "code",
   "execution_count": 27,
   "metadata": {},
   "outputs": [
    {
     "name": "stdout",
     "output_type": "stream",
     "text": [
      "RMSE of raw measurement = 1.0615902405023263, and RMSE of Kalman filter = 0.02506587607143457\n"
     ]
    }
   ],
   "source": [
    "RMSE_raw = np.sum(np.square(y_wiener.flatten()-x_wiener[:,0]))/y_wiener.shape[0]\n",
    "RMSE_kalman = np.sum(np.square(x_kalman[:,0]-x_wiener[:,0]))/y_wiener.shape[0]\n",
    "print('RMSE of raw measurement = {}, and RMSE of Kalman filter = {}'.format(RMSE_raw,RMSE_kalman))"
   ]
  },
  {
   "cell_type": "code",
   "execution_count": 28,
   "metadata": {},
   "outputs": [
    {
     "data": {
      "application/vnd.jupyter.widget-view+json": {
       "model_id": "63ea4f9b9b8647549de8365cd41567c6",
       "version_major": 2,
       "version_minor": 0
      },
      "text/plain": [
       "Canvas(toolbar=Toolbar(toolitems=[('Home', 'Reset original view', 'home', 'home'), ('Back', 'Back to previous …"
      ]
     },
     "metadata": {},
     "output_type": "display_data"
    },
    {
     "data": {
      "text/plain": [
       "<matplotlib.legend.Legend at 0x7f7af17d1110>"
      ]
     },
     "execution_count": 28,
     "metadata": {},
     "output_type": "execute_result"
    }
   ],
   "source": [
    "plt.figure(figsize=fig_size)\n",
    "plt.plot(t_wiener,x_wiener[:,0],linewidth=1, label='$x_1$-True')\n",
    "plt.plot(t_wiener,y_wiener,'ok',markersize=3,label='$x_1$-Measurement',alpha=0.2)\n",
    "plt.plot(t_wiener,x_kalman[:,0],linewidth=1, label='$x_1$-Kalman')\n",
    "plt.xlabel('$t$')\n",
    "plt.ylabel('$x$')\n",
    "plt.legend()"
   ]
  },
  {
   "cell_type": "code",
   "execution_count": 29,
   "metadata": {},
   "outputs": [
    {
     "data": {
      "application/vnd.jupyter.widget-view+json": {
       "model_id": "dc8e0f7150644f56a24f250677f163ee",
       "version_major": 2,
       "version_minor": 0
      },
      "text/plain": [
       "Canvas(toolbar=Toolbar(toolitems=[('Home', 'Reset original view', 'home', 'home'), ('Back', 'Back to previous …"
      ]
     },
     "metadata": {},
     "output_type": "display_data"
    },
    {
     "data": {
      "text/plain": [
       "<matplotlib.legend.Legend at 0x7f7ae2fba290>"
      ]
     },
     "execution_count": 29,
     "metadata": {},
     "output_type": "execute_result"
    }
   ],
   "source": [
    "plt.figure(figsize=fig_size)\n",
    "plt.plot(t_wiener,np.square(x_wiener[:,0]-y_wiener.flatten()),linewidth=0.5,alpha=0.2, label='$(y - x_1)^2$')\n",
    "plt.plot(t_wiener,np.square(x_wiener[:,0]-x_kalman[:,0]),linewidth=0.5, label='$(\\hat{x}_1 - x_1)^2$')\n",
    "plt.xlabel('$t$')\n",
    "plt.ylabel('$x$')\n",
    "plt.legend()"
   ]
  },
  {
   "cell_type": "markdown",
   "metadata": {},
   "source": [
    "## Question 2 (Sequential least squares and Kalman filter)\n",
    "a. Recall the drone model from Exercise 3.3 and how in static case, it can be solved with regularized least squares in batch and sequential forms.\n",
    "\n",
    "b. Write down a state space model which allows to reformulate the sequential solution above as a Kalman filtering problem. Hint: $x_{k} = x_{k−1}$\n",
    "\n",
    "c. Check that the Kalman filter exactly reproduces the sequential solution."
   ]
  },
  {
   "cell_type": "markdown",
   "metadata": {},
   "source": [
    "In this case we will have the state $x = [p_x\\;p_y\\;p_z]^\\top$. The measurement is given by\n",
    "$$\n",
    "y = Hx + b + r,\n",
    "$$\n",
    "$$\n",
    "H = \\begin{bmatrix}\n",
    "I_3\\\\\n",
    "-I_3\n",
    "\\end{bmatrix},\n",
    "b = L\\begin{bmatrix}\n",
    "0_3\\\\\n",
    "1_3\n",
    "\\end{bmatrix}.\n",
    "$$\n",
    "\n",
    "Now if we write:\n",
    "$$\n",
    "x_{k+1} = x_{k},\n",
    "y_k = H_k x_k + r_k,\n",
    "$$\n",
    "where $H_k$ is the $k$-th row of the $H$ matrix, then we can use the Kalman filter algorithm to reproduce the regularized least square. In fact, they share the same algorithm."
   ]
  },
  {
   "cell_type": "markdown",
   "metadata": {},
   "source": [
    "We borrow some codes from Exercise 3"
   ]
  },
  {
   "cell_type": "code",
   "execution_count": 30,
   "metadata": {},
   "outputs": [],
   "source": [
    "## Initialization\n",
    "x_drone = np.array([0.5,0.5,0.5])#true position\n",
    "L_drone = 1.\n",
    "I_3 = np.eye(3)\n",
    "H_drone = np.vstack((I_3,-I_3))\n",
    "b_drone = np.array([0.,0.,0.,L_drone,L_drone,L_drone])\n",
    "\n",
    "n_sensors = 6\n",
    "stdev_drone = 5e-2 #equal for all sensors\n",
    "r_drone  = stdev_drone*np.random.randn(n_sensors)\n",
    "R_drone = stdev_drone*stdev_drone*np.eye(n_sensors)\n",
    "y_drone = H_drone@x_drone+b_drone+r_drone\n",
    "\n",
    "#pick an m and P\n",
    "m_drone = np.array([0.,0.,0.]) #put initially\n",
    "P_drone = 1e-2*I_3# If you put P small, you better make sure that (x-m) is very close\n",
    "P_drone = (P_drone+P_drone.T)/2\n",
    "R_drone_inv = np.linalg.inv(R_drone)\n",
    "P_drone_inv = np.linalg.inv(P_drone)\n",
    "\n",
    "##Batch solution\n",
    "y_tilde = y_drone - b_drone\n",
    "x_WLS = np.linalg.solve(H_drone.T@R_drone_inv@H_drone, H_drone.T@R_drone_inv@y_tilde)\n",
    "x_reg_WLS = np.linalg.solve(H_drone.T@R_drone_inv@H_drone+P_drone_inv, H_drone.T@R_drone_inv@y_tilde+P_drone_inv@m_drone)\n",
    "P_reg_WLS_inv = H_drone.T@R_drone_inv@H_drone+P_drone_inv\n",
    "P_WLS_inv = H_drone.T@R_drone_inv@H_drone"
   ]
  },
  {
   "cell_type": "markdown",
   "metadata": {},
   "source": [
    "### The Kalman filter (is it?)\n",
    "if you assume that $R$ is completely diagonal, that is the error completely independent for each sensor then you can write (as before in Exercise 3). Notice that the measurement matrix now changing for each index $i$."
   ]
  },
  {
   "cell_type": "code",
   "execution_count": 31,
   "metadata": {},
   "outputs": [],
   "source": [
    "x_drone_history = np.zeros((n_sensors+1,3))\n",
    "P_drone_history = np.zeros((n_sensors+1,3,3))\n",
    "x_drone_est = m_drone\n",
    "x_drone_history[0,:] = x_drone_est\n",
    "P_drone_est = P_drone\n",
    "P_drone_history[0] = P_drone_est\n",
    "for i in range(n_sensors):\n",
    "    #There is no apriori update here why?\n",
    "    H_i = H_drone[i,:]\n",
    "    s = (np.inner(H_i,P_drone_est@H_i)+R_drone[i,i])\n",
    "    K = P_drone_est@H_i/s #explain why\n",
    "    x_drone_est = x_drone_est + K*(y_tilde[i] - H_i@x_drone_est)\n",
    "    P_drone_est = P_drone_est - np.outer(K,K)*s\n",
    "    x_drone_history[i+1] = x_drone_est\n",
    "    P_drone_history[i+1] = P_drone_est"
   ]
  },
  {
   "cell_type": "code",
   "execution_count": 32,
   "metadata": {},
   "outputs": [
    {
     "name": "stdout",
     "output_type": "stream",
     "text": [
      "[0.46060988 0.47441483 0.41637083]\n",
      "[0.51818611 0.53371668 0.46841718]\n",
      "[[0.         0.         0.        ]\n",
      " [0.38386699 0.         0.        ]\n",
      " [0.38386699 0.45962402 0.        ]\n",
      " [0.38386699 0.45962402 0.41405858]\n",
      " [0.46060988 0.45962402 0.41405858]\n",
      " [0.46060988 0.47441483 0.41405858]\n",
      " [0.46060988 0.47441483 0.41637083]]\n"
     ]
    }
   ],
   "source": [
    "print(x_reg_WLS)\n",
    "print(x_WLS)\n",
    "print(x_drone_history)"
   ]
  },
  {
   "cell_type": "code",
   "execution_count": 33,
   "metadata": {},
   "outputs": [],
   "source": [
    "#Get x,y,z that will draw an ellipse with center in x_c and matrix P as its ellipse parameter\n",
    "def get_ellipse(ellipse_center,ellipse_P, num_points=100):\n",
    "    U, s, rotation = sla.svd(ellipse_P)\n",
    "    radii = 1.0/np.sqrt(s)\n",
    "    # now carry on with EOL's answer\n",
    "    u = np.linspace(0.0, 2.0 * np.pi, num_points)\n",
    "    v = np.linspace(0.0, np.pi, num_points)\n",
    "    x = radii[0] * np.outer(np.cos(u), np.sin(v))\n",
    "    y = radii[1] * np.outer(np.sin(u), np.sin(v))\n",
    "    z = radii[2] * np.outer(np.ones_like(u), np.cos(v))\n",
    "    for i in range(len(x)):\n",
    "        for j in range(len(x)):\n",
    "            [x[i,j],y[i,j],z[i,j]] = np.dot([x[i,j],y[i,j],z[i,j]], rotation) + ellipse_center\n",
    "    \n",
    "    return x,y,z"
   ]
  },
  {
   "cell_type": "code",
   "execution_count": 34,
   "metadata": {},
   "outputs": [],
   "source": [
    "#Draw some ellipse\n",
    "el_rwls_x,el_rwls_y,el_rwls_z = get_ellipse(x_reg_WLS,P_reg_WLS_inv)\n",
    "el_wls_x,el_wls_y,el_wls_z = get_ellipse(x_WLS,P_WLS_inv)"
   ]
  },
  {
   "cell_type": "code",
   "execution_count": 35,
   "metadata": {},
   "outputs": [
    {
     "data": {
      "application/vnd.jupyter.widget-view+json": {
       "model_id": "5381d7a6365c4a8fa59d90dff6f9f115",
       "version_major": 2,
       "version_minor": 0
      },
      "text/plain": [
       "Canvas(toolbar=Toolbar(toolitems=[('Home', 'Reset original view', 'home', 'home'), ('Back', 'Back to previous …"
      ]
     },
     "metadata": {},
     "output_type": "display_data"
    },
    {
     "data": {
      "text/plain": [
       "(0.0, 1.0)"
      ]
     },
     "execution_count": 35,
     "metadata": {},
     "output_type": "execute_result"
    }
   ],
   "source": [
    "fig = plt.figure(figsize=(15,15))\n",
    "point_size=40\n",
    "ax = fig.add_subplot(111, projection='3d')\n",
    "x_True = np.array([x_drone[0]])\n",
    "y_True = np.array([x_drone[1]])\n",
    "z_True = np.array([x_drone[2]])\n",
    "\n",
    "\n",
    "ax.scatter(x_drone[0],x_drone[1],x_drone[2],c='b',s=point_size,marker=\"X\")\n",
    "ax.scatter(x_WLS[0],x_WLS[1],x_WLS[2],c='r',s=point_size,marker=\"D\")\n",
    "ax.scatter(x_reg_WLS[0],x_reg_WLS[1],x_reg_WLS[2],c='k',s=point_size,marker=\"P\")\n",
    "\n",
    "ax.plot_surface(el_rwls_x,el_rwls_y,el_rwls_z,  rstride=1, cstride=1, color='r', alpha=0.2, linewidth=0)\n",
    "ax.plot_surface(el_wls_x,el_wls_y,el_wls_z,  rstride=1, cstride=1, color='k', alpha=0.2, linewidth=0)\n",
    "ax.plot(x_drone_history[:,0],x_drone_history[:,1],x_drone_history[:,2],c='k',linewidth=0.5)\n",
    "for i in range(x_drone_history.shape[0]):\n",
    "    x_ellipse_drone,y_ellipse_drone,z_ellipse_drone = get_ellipse(x_drone_history[i,:],np.linalg.inv(P_drone_history[i]))\n",
    "    ax.plot_surface(x_ellipse_drone,y_ellipse_drone,z_ellipse_drone,  rstride=1, cstride=1, color='g', alpha=0.2, linewidth=0)\n",
    "    \n",
    "ax.set_xlim(0,1.)\n",
    "ax.set_ylim(0,1.)\n",
    "ax.set_zlim(0,1.)"
   ]
  },
  {
   "cell_type": "markdown",
   "metadata": {},
   "source": [
    "## Question 3 (Kalman filter for the drone model)\n",
    "a. Form a 3D Wiener velocity model for the drone dynamics in previous exercise.\n",
    "\n",
    "b. Simulate data and measurements from the model and plot them.\n",
    "\n",
    "c. Implement a Kalman filter for it and investigate its errors compared to estimating the positions by only using measurements at each time independently (cf. previous exercise)."
   ]
  },
  {
   "cell_type": "markdown",
   "metadata": {},
   "source": [
    "Now the 3D wiener velocity model is given by.\n",
    "$$\n",
    "\\dot{x}_t = A x_t + B w_t\n",
    "$$\n",
    "where $x = \\left[p_x, \\dot{p}_x, p_y, \\dot{p}_y, p_z, \\dot{p}_z\\right]^\\top$.\n",
    "$$\n",
    "A = \\begin{bmatrix}\n",
    "    0 & 1 & 0 & 0 & 0 & 0\\\\\n",
    "    0 & 0 & 0 & 0 & 0 & 0\\\\\n",
    "    0 & 0 & 0 & 1 & 0 & 0\\\\\n",
    "    0 & 0 & 0 & 0 & 0 & 0\\\\\n",
    "    0 & 0 & 0 & 0 & 0 & 1\\\\\n",
    "    0 & 0 & 0 & 0 & 0 & 0\n",
    "    \\end{bmatrix},\n",
    "B = \\begin{bmatrix}\n",
    "    0 & 0 & 0 \\\\\n",
    "    1 & 0 & 0 \\\\\n",
    "    0 & 0 & 0 \\\\\n",
    "    0 & 1 & 0 \\\\\n",
    "    0 & 0 & 0 \\\\\n",
    "    0 & 0 & 1\n",
    "    \\end{bmatrix}\n",
    "$$\n",
    "\n",
    "Hence\n",
    "$$\n",
    "F = \\begin{bmatrix}\n",
    "    1 & dt & 0 & 0 & 0 & 0\\\\\n",
    "    0 & 1 & 0 & 0 & 0 & 0\\\\\n",
    "    0 & 0 & 1 & dt & 0 & 0\\\\\n",
    "    0 & 0 & 0 & 1 & 0 & 0\\\\\n",
    "    0 & 0 & 0 & 0 & 1 & dt\\\\\n",
    "    0 & 0 & 0 & 0 & 0 & 1        \n",
    "    \\end{bmatrix},\n",
    "Q = \\begin{bmatrix}\n",
    "    Q_1 & 0 & 0 \\\\\n",
    "    0 & Q_1 & 0 \\\\\n",
    "    0 & 0 & Q_1 \\\\\n",
    "    \\end{bmatrix}\n",
    "$$\n",
    "where $Q_1$ is the discrete process noise covariance matrix for one dimensional Wiener velocity model.\n",
    "The measurement matrix is given by\n",
    "$$\n",
    "H = \\begin{bmatrix}\n",
    "    1 & 0 & 0 & 0 & 0 & 0\\\\\n",
    "    0 & 0 & 1 & 0 & 0 & 0\\\\\n",
    "    0 & 0 & 0 & 0 & 1 & 0\\\\\n",
    "    -1 & 0 & 0 & 0 & 0 & 0\\\\\n",
    "    0 & 0 & -1 & 0 & 0 & 0\\\\\n",
    "    0 & 0 & 0 & 0 & -1 & 0\\\\\n",
    "    \\end{bmatrix}\n",
    "$$"
   ]
  },
  {
   "cell_type": "code",
   "execution_count": 37,
   "metadata": {},
   "outputs": [],
   "source": [
    "process_noise_variance_3d = 0.1\n",
    "measurement_noise_variance_3d = 1.\n",
    "dt_3d = 0.01\n",
    "F_wiener_1d = np.array([[1., dt_3d],[0., 1.]])\n",
    "F_wiener_3d = sla.block_diag(F_wiener_1d,F_wiener_1d,F_wiener_1d)\n",
    "Q_wiener_discrete_1d = process_noise_variance_3d * np.array([[(dt_3d**3)/3, (dt_3d**2)/2],[(dt_3d**2)/2,dt_3d]])\n",
    "Q_wiener_discrete_3d = sla.block_diag(Q_wiener_discrete_1d,Q_wiener_discrete_1d,Q_wiener_discrete_1d)\n",
    "x_wiener_init_3d = np.array([0.,1.,0.,1.,0.,1.])\n",
    "t_wiener_3d = np.arange(1001)*dt_3d\n",
    "R_3d = measurement_noise_variance_3d*np.eye(6)\n",
    "R_3d_inv = np.linalg.inv(R_3d)\n",
    "q_3d = np.random.multivariate_normal(np.zeros(6),Q_wiener_discrete_3d,(t_wiener_3d.shape[0]))\n",
    "r_3d = np.random.multivariate_normal(np.zeros(6),R_3d,t_wiener_3d.shape[0])\n",
    "H_wiener_3d = np.array([[1., 0., 0., 0., 0., 0.],\n",
    "                     [0., 0., 1., 0., 0., 0.],\n",
    "                     [0., 0., 0., 0., 1., 0.],\n",
    "                     [-1., 0., 0., 0., 0., 0.],\n",
    "                     [0., 0., -1., 0., 0., 0.],\n",
    "                     [0., 0., 0., 0., -1., 0.]\n",
    "                    ])\n"
   ]
  },
  {
   "cell_type": "code",
   "execution_count": 38,
   "metadata": {},
   "outputs": [],
   "source": [
    "x_wiener_3d = propagate_linear_discrete_system_with_noise(F_wiener_3d,x_wiener_init_3d,t_wiener_3d.shape[0],q_3d)\n",
    "y_wiener_3d = x_wiener_3d@H_wiener_3d.T + r_3d + b_drone"
   ]
  },
  {
   "cell_type": "code",
   "execution_count": 39,
   "metadata": {},
   "outputs": [],
   "source": [
    "P_drone = 10*I_3# If you put P small, you better make sure that (x-m) is very close\n",
    "P_drone = (P_drone+P_drone.T)/2\n",
    "P_drone_inv = np.linalg.inv(P_drone)\n",
    "x_reg_WLS_3d = np.empty((y_wiener_3d.shape[0]+1,3))\n",
    "x_reg_WLS_3d[0] = x_wiener_init_3d[[0,2,4]]\n",
    "for i in range(y_wiener_3d.shape[0]):\n",
    "    x_reg_WLS_3d[i+1] = np.linalg.solve(H_drone.T@R_3d_inv@H_drone+P_drone_inv, H_drone.T@R_3d_inv@(y_wiener_3d[i]-b_drone)\n",
    "                                        +P_drone_inv@x_reg_WLS_3d[i])"
   ]
  },
  {
   "cell_type": "code",
   "execution_count": 41,
   "metadata": {},
   "outputs": [],
   "source": [
    "cov_init_3d = 0.01*np.eye(6)\n",
    "x_kalman_3d,cov_kalman_3d = Kalman_filter(F_wiener_3d,H_wiener_3d,x_wiener_init_3d,cov_init_3d,Q_wiener_discrete_3d,R_3d,y_wiener_3d-b_drone)\n",
    "kalman_output_3d = x_kalman_3d@H_wiener_3d.T"
   ]
  },
  {
   "cell_type": "code",
   "execution_count": 29,
   "metadata": {},
   "outputs": [
    {
     "data": {
      "text/plain": [
       "array([[ 1.,  0.,  0., -1.,  0.,  0.],\n",
       "       [ 0.,  1.,  0.,  0., -1.,  0.],\n",
       "       [ 0.,  0.,  1.,  0.,  0., -1.]])"
      ]
     },
     "execution_count": 29,
     "metadata": {},
     "output_type": "execute_result"
    }
   ],
   "source": [
    " H_drone.T@R_3d_inv"
   ]
  },
  {
   "cell_type": "code",
   "execution_count": 30,
   "metadata": {},
   "outputs": [
    {
     "data": {
      "text/plain": [
       "array([[0.01473209, 0.        , 0.        ],\n",
       "       [0.        , 0.01473209, 0.        ],\n",
       "       [0.        , 0.        , 0.01473209]])"
      ]
     },
     "execution_count": 30,
     "metadata": {},
     "output_type": "execute_result"
    }
   ],
   "source": [
    "row_idx = np.array([0,2,4])\n",
    "col_idx = np.array([0,2,4])\n",
    "cov_kalman_3d[-1,row_idx[:,None],col_idx]"
   ]
  },
  {
   "cell_type": "code",
   "execution_count": 42,
   "metadata": {},
   "outputs": [
    {
     "data": {
      "application/vnd.jupyter.widget-view+json": {
       "model_id": "aff2331d614a44d5b582c7b0c6a8453f",
       "version_major": 2,
       "version_minor": 0
      },
      "text/plain": [
       "Canvas(toolbar=Toolbar(toolitems=[('Home', 'Reset original view', 'home', 'home'), ('Back', 'Back to previous …"
      ]
     },
     "metadata": {},
     "output_type": "display_data"
    },
    {
     "data": {
      "text/plain": [
       "<matplotlib.legend.Legend at 0x7f7adbf64cd0>"
      ]
     },
     "execution_count": 42,
     "metadata": {},
     "output_type": "execute_result"
    }
   ],
   "source": [
    "fig = plt.figure(figsize=(15,15))\n",
    "ax = fig.add_subplot(111, projection='3d')\n",
    "ax.plot(kalman_output_3d[:,0],kalman_output_3d[:,1],kalman_output_3d[:,2], c='b', linewidth=1,label='Kalman')\n",
    "ax.plot(x_wiener_3d[:,0],x_wiener_3d[:,2],x_wiener_3d[:,4], c='r', linewidth=1,label='Ground Truth')\n",
    "ax.plot(x_reg_WLS_3d[:,0],x_reg_WLS_3d[:,1],x_reg_WLS_3d[:,2], c='g', linewidth=1,label='reg WLS local', alpha=0.2)\n",
    "ax.scatter(y_wiener_3d[:,0],y_wiener_3d[:,1],y_wiener_3d[:,2],s=2, c='k', alpha=0.2,label='Measurement')\n",
    "ax.set_x_label=('$x$')\n",
    "ax.set_y_label=('$y$')\n",
    "ax.set_z_label=('$z$')\n",
    "ax.legend()\n"
   ]
  },
  {
   "cell_type": "code",
   "execution_count": null,
   "metadata": {},
   "outputs": [],
   "source": []
  },
  {
   "cell_type": "code",
   "execution_count": null,
   "metadata": {},
   "outputs": [],
   "source": []
  }
 ],
 "metadata": {
  "kernelspec": {
   "display_name": "Python 3",
   "language": "python",
   "name": "python3"
  },
  "language_info": {
   "codemirror_mode": {
    "name": "ipython",
    "version": 3
   },
   "file_extension": ".py",
   "mimetype": "text/x-python",
   "name": "python",
   "nbconvert_exporter": "python",
   "pygments_lexer": "ipython3",
   "version": "3.6.9"
  }
 },
 "nbformat": 4,
 "nbformat_minor": 4
}
